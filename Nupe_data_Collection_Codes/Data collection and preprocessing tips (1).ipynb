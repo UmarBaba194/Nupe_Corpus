{
 "cells": [
  {
   "cell_type": "markdown",
   "metadata": {},
   "source": [
    "# A tips on how to get and preprocess the shared datasets \n",
    "\n",
    "    # Collection and Curation ... "
   ]
  },
  {
   "cell_type": "code",
   "execution_count": 1,
   "metadata": {},
   "outputs": [],
   "source": [
    "import numpy as np\n",
    "import pandas as pd\n",
    "\n"
   ]
  },
  {
   "cell_type": "markdown",
   "metadata": {},
   "source": [
    "    # THE COLLECTION: "
   ]
  },
  {
   "cell_type": "markdown",
   "metadata": {},
   "source": [
    "**PARALLEL DATASET**"
   ]
  },
  {
   "cell_type": "code",
   "execution_count": 2,
   "metadata": {},
   "outputs": [
    {
     "data": {
      "text/html": [
       "<div>\n",
       "<style scoped>\n",
       "    .dataframe tbody tr th:only-of-type {\n",
       "        vertical-align: middle;\n",
       "    }\n",
       "\n",
       "    .dataframe tbody tr th {\n",
       "        vertical-align: top;\n",
       "    }\n",
       "\n",
       "    .dataframe thead th {\n",
       "        text-align: right;\n",
       "    }\n",
       "</style>\n",
       "<table border=\"1\" class=\"dataframe\">\n",
       "  <thead>\n",
       "    <tr style=\"text-align: right;\">\n",
       "      <th></th>\n",
       "      <th>eng</th>\n",
       "      <th>nupe</th>\n",
       "    </tr>\n",
       "  </thead>\n",
       "  <tbody>\n",
       "    <tr>\n",
       "      <th>0</th>\n",
       "      <td>Praise be to Allah the Cherisher and Sustainer...</td>\n",
       "      <td>Yebo kpata ajin tabbata ya Soko Etsu nae kpa a...</td>\n",
       "    </tr>\n",
       "    <tr>\n",
       "      <th>1</th>\n",
       "      <td>Most Gracious Most Merciful</td>\n",
       "      <td>Estu na niimau ke ke yiba to mumini to kafiri ...</td>\n",
       "    </tr>\n",
       "    <tr>\n",
       "      <th>2</th>\n",
       "      <td>Master of the Day of Judgment</td>\n",
       "      <td>Etsu na wun mulki efo egagbaena</td>\n",
       "    </tr>\n",
       "    <tr>\n",
       "      <th>3</th>\n",
       "      <td>Thee do we worship and Thine aid we seek</td>\n",
       "      <td>Wyo gbaogi ga yi-ejin bauta yao be wyo gbaogi ...</td>\n",
       "    </tr>\n",
       "    <tr>\n",
       "      <th>4</th>\n",
       "      <td>Show us the straight way</td>\n",
       "      <td>Soko wu yi ba eko natso yi gboro na</td>\n",
       "    </tr>\n",
       "    <tr>\n",
       "      <th>5</th>\n",
       "      <td>The way of those on whom Thou hast bestowed Th...</td>\n",
       "      <td>Eko yan za nazhi wyo la niima wyoe twarya ya n...</td>\n",
       "    </tr>\n",
       "    <tr>\n",
       "      <th>6</th>\n",
       "      <td>ALR These are the ayats of the Book of Wisdom</td>\n",
       "      <td>Alif Lam Ra Wuncinzhi aya yan litafi Alkuranu ...</td>\n",
       "    </tr>\n",
       "    <tr>\n",
       "      <th>7</th>\n",
       "      <td>Is it a matter of wonderment to men that We ha...</td>\n",
       "      <td>Kashi wunafe eyan mamaki fe ya zawangizhi na Y...</td>\n",
       "    </tr>\n",
       "    <tr>\n",
       "      <th>8</th>\n",
       "      <td>Verily your Lord is Allah who created the heav...</td>\n",
       "      <td>Hakika Tsoci ye uga yi Sokoo Etsu najin alita ...</td>\n",
       "    </tr>\n",
       "    <tr>\n",
       "      <th>9</th>\n",
       "      <td>To Him will be your return- of all of you The...</td>\n",
       "      <td>Ebau gabo ezhe keba ye dan baeni bo alkawali S...</td>\n",
       "    </tr>\n",
       "  </tbody>\n",
       "</table>\n",
       "</div>"
      ],
      "text/plain": [
       "                                                 eng  \\\n",
       "0  Praise be to Allah the Cherisher and Sustainer...   \n",
       "1                        Most Gracious Most Merciful   \n",
       "2                      Master of the Day of Judgment   \n",
       "3           Thee do we worship and Thine aid we seek   \n",
       "4                           Show us the straight way   \n",
       "5  The way of those on whom Thou hast bestowed Th...   \n",
       "6      ALR These are the ayats of the Book of Wisdom   \n",
       "7  Is it a matter of wonderment to men that We ha...   \n",
       "8  Verily your Lord is Allah who created the heav...   \n",
       "9   To Him will be your return- of all of you The...   \n",
       "\n",
       "                                                nupe  \n",
       "0  Yebo kpata ajin tabbata ya Soko Etsu nae kpa a...  \n",
       "1  Estu na niimau ke ke yiba to mumini to kafiri ...  \n",
       "2                    Etsu na wun mulki efo egagbaena  \n",
       "3  Wyo gbaogi ga yi-ejin bauta yao be wyo gbaogi ...  \n",
       "4                Soko wu yi ba eko natso yi gboro na  \n",
       "5  Eko yan za nazhi wyo la niima wyoe twarya ya n...  \n",
       "6  Alif Lam Ra Wuncinzhi aya yan litafi Alkuranu ...  \n",
       "7  Kashi wunafe eyan mamaki fe ya zawangizhi na Y...  \n",
       "8  Hakika Tsoci ye uga yi Sokoo Etsu najin alita ...  \n",
       "9  Ebau gabo ezhe keba ye dan baeni bo alkawali S...  "
      ]
     },
     "execution_count": 2,
     "metadata": {},
     "output_type": "execute_result"
    }
   ],
   "source": [
    "df=pd.read_csv('nupe-english_parallel_corpus.csv')\n",
    "df.head(10)"
   ]
  },
  {
   "cell_type": "code",
   "execution_count": 3,
   "metadata": {},
   "outputs": [
    {
     "data": {
      "text/html": [
       "<div>\n",
       "<style scoped>\n",
       "    .dataframe tbody tr th:only-of-type {\n",
       "        vertical-align: middle;\n",
       "    }\n",
       "\n",
       "    .dataframe tbody tr th {\n",
       "        vertical-align: top;\n",
       "    }\n",
       "\n",
       "    .dataframe thead th {\n",
       "        text-align: right;\n",
       "    }\n",
       "</style>\n",
       "<table border=\"1\" class=\"dataframe\">\n",
       "  <thead>\n",
       "    <tr style=\"text-align: right;\">\n",
       "      <th></th>\n",
       "      <th>eng</th>\n",
       "      <th>nupe</th>\n",
       "    </tr>\n",
       "  </thead>\n",
       "  <tbody>\n",
       "    <tr>\n",
       "      <th>0</th>\n",
       "      <td>Praise be to Allah the Cherisher and Sustainer...</td>\n",
       "      <td>Yebo kpata ajin tabbata ya Soko Etsu nae kpa a...</td>\n",
       "    </tr>\n",
       "    <tr>\n",
       "      <th>1</th>\n",
       "      <td>Most Gracious Most Merciful</td>\n",
       "      <td>Estu na niimau ke ke yiba to mumini to kafiri ...</td>\n",
       "    </tr>\n",
       "    <tr>\n",
       "      <th>2</th>\n",
       "      <td>Master of the Day of Judgment</td>\n",
       "      <td>Etsu na wun mulki efo egagbaena</td>\n",
       "    </tr>\n",
       "    <tr>\n",
       "      <th>3</th>\n",
       "      <td>Thee do we worship and Thine aid we seek</td>\n",
       "      <td>Wyo gbaogi ga yi-ejin bauta yao be wyo gbaogi ...</td>\n",
       "    </tr>\n",
       "    <tr>\n",
       "      <th>4</th>\n",
       "      <td>Show us the straight way</td>\n",
       "      <td>Soko wu yi ba eko natso yi gboro na</td>\n",
       "    </tr>\n",
       "    <tr>\n",
       "      <th>...</th>\n",
       "      <td>...</td>\n",
       "      <td>...</td>\n",
       "    </tr>\n",
       "    <tr>\n",
       "      <th>288941</th>\n",
       "      <td>I cannot find time to read the book</td>\n",
       "      <td>mide lokaci na mi ga gba takada na</td>\n",
       "    </tr>\n",
       "    <tr>\n",
       "      <th>288942</th>\n",
       "      <td>The pasture has an area of  acres</td>\n",
       "      <td>lati dey acre guwo</td>\n",
       "    </tr>\n",
       "    <tr>\n",
       "      <th>288943</th>\n",
       "      <td>The fields yielded a good harvest</td>\n",
       "      <td>lati a ge eya nna</td>\n",
       "    </tr>\n",
       "    <tr>\n",
       "      <th>288944</th>\n",
       "      <td>Thats the meat of a hen</td>\n",
       "      <td>nakan yan bishe do na</td>\n",
       "    </tr>\n",
       "    <tr>\n",
       "      <th>288945</th>\n",
       "      <td>By whom was the island discovered?</td>\n",
       "      <td>zhi ka bata nna leye o</td>\n",
       "    </tr>\n",
       "  </tbody>\n",
       "</table>\n",
       "<p>288946 rows × 2 columns</p>\n",
       "</div>"
      ],
      "text/plain": [
       "                                                      eng  \\\n",
       "0       Praise be to Allah the Cherisher and Sustainer...   \n",
       "1                             Most Gracious Most Merciful   \n",
       "2                           Master of the Day of Judgment   \n",
       "3                Thee do we worship and Thine aid we seek   \n",
       "4                                Show us the straight way   \n",
       "...                                                   ...   \n",
       "288941                I cannot find time to read the book   \n",
       "288942                  The pasture has an area of  acres   \n",
       "288943                  The fields yielded a good harvest   \n",
       "288944                            Thats the meat of a hen   \n",
       "288945                 By whom was the island discovered?   \n",
       "\n",
       "                                                     nupe  \n",
       "0       Yebo kpata ajin tabbata ya Soko Etsu nae kpa a...  \n",
       "1       Estu na niimau ke ke yiba to mumini to kafiri ...  \n",
       "2                         Etsu na wun mulki efo egagbaena  \n",
       "3       Wyo gbaogi ga yi-ejin bauta yao be wyo gbaogi ...  \n",
       "4                     Soko wu yi ba eko natso yi gboro na  \n",
       "...                                                   ...  \n",
       "288941                 mide lokaci na mi ga gba takada na  \n",
       "288942                                 lati dey acre guwo  \n",
       "288943                                  lati a ge eya nna  \n",
       "288944                              nakan yan bishe do na  \n",
       "288945                             zhi ka bata nna leye o  \n",
       "\n",
       "[288946 rows x 2 columns]"
      ]
     },
     "execution_count": 3,
     "metadata": {},
     "output_type": "execute_result"
    }
   ],
   "source": [
    "df"
   ]
  },
  {
   "cell_type": "markdown",
   "metadata": {},
   "source": [
    "**WEB DATA Category:**\n",
    "\n",
    "    #Web Scrapping using BeutifulSoup package to scrap useful data from relevan websites that provide information in Hausa language"
   ]
  },
  {
   "cell_type": "code",
   "execution_count": 4,
   "metadata": {},
   "outputs": [],
   "source": [
    "from bs4 import BeautifulSoup\n",
    "from bs4 import BeautifulSoup as soup\n",
    "from urllib.request import urlopen as uReq\n",
    "import re"
   ]
  },
  {
   "cell_type": "code",
   "execution_count": 5,
   "metadata": {},
   "outputs": [
    {
     "name": "stdout",
     "output_type": "stream",
     "text": [
      "BY\n",
      "ISYAKU BALA IBRAHIM\n",
      "\n",
      "\n",
      "CHAPTER THIRTY-FOUR (34)\n",
      "TUKPAPA\n",
      "– REMINDER\n",
      "1.  Wo kpe nyina na, wo kpe esun à.\n",
      "If you know today you do not know tomorrow.\n",
      "Man is ignorant of the future.\n",
      "2. Tukpapa wun è lugwa tukpa tsu à.\n",
      "A reminder does not cause dumbness.\n",
      "A reminder does not cause harm rather it enlightens an individual.\n",
      "3. Erwagi gan séfu, wuntso ma na kin bo à.\n",
      "The crippled draws attention to stand for prayers while he is still on the floor.\n",
      "Show a clear commitment towards something before asking others to emulate you.\n",
      "4. Eza ù la eda ù ya tun ka kun na wun è woma egwako na kacin à wun à be à ma\n",
      "ù zunye.\n",
      "A person should leave the stage when the ovation is loudest or else he will shamefully leave it later.\n",
      "People should do things at their appropriate times.\n",
      "5. Nangi ga e za be eshigi, wun à be à ca ebi nyi gi.\n",
      "Any sheep that follows a dog about will soon start eating faeces.\n",
      "Be careful in choosing a friend or a partner as he/she might positively or negatively influence your life.\n",
      "6. Eza è de ekò dan egwa ò ede ù shishikan à.\n",
      "No one in possession of soap will allow it clothes to remain dirty.\n",
      "With adequate resources at one’s disposal, one will solve alot of problems.\n",
      "7. Wun jin za è wun kuso na wun kana à.\n",
      "It is not the person that owns the forest that owns its baboon.\n",
      "You cannot be in contol of everythings.\n",
      "8.\n",
      "Egwa la mufu lo ená ò, a ma tsukun tsá ma à wa wun ò.\n",
      "It is the hand that takes an iron-stove into a fire, but it is a stick that will bring it out.\n",
      "People should be careful of the negative consequences of their actions.\n",
      "9.\n",
      "Éyé na shi na ékó na; zana da ù na à masha\n",
      ".\n",
      "The night has set-in on the road; whoever will ply it must take caution.\n",
      "Whatever you do not have detailed explanation on should be treated with caution.\n",
      "Eza è gi yiwara\n",
      "zo vo wun      kun gwa wun à.\n",
      "A person does not finish eating a cooked grain-flour meal and wriggles his hands into\n",
      "the plate.\n",
      "You cannot reverse what has been concluded.\n",
      "Wun jin na eza lé be nyi      na, wun è san be nyi à\n",
      ".\n",
      "It is not what a person sleeps with, that he or she wakes up with.\n",
      "Life is generally dynamic, it is subject to changes.\n",
      "Nyana è li li na wun      è zo zo.\n",
      "What is picked consistently is consistently finishing.\n",
      "People should be conscious of things they constantly use, as they will certainly finish.\n",
      "Zandondo ù la emi ù tú      égún mi nda ù\n",
      ".\n",
      "Everyone should go by their inherited family norms.\n",
      "People should always respect their family ethics.\n",
      "Kankuru na janfuru      dan nuwon ò na be tsun yikán tsun.\n",
      "A hippopotamus that just enters into the water meets the fish therein.\n",
      "The new arrivers should give regards or respect the old hands.\n",
      "Nyana saka lo égó na, wun      be tsun nyana lé égó na tsun.\n",
      "Whatever comes into the bush early in the morning meets what slept therein.\n",
      "There are differences between old and and new things is clear.\n",
      "Nyana è ge eza na wun      ga yizheci è nanvó, nyana ma è nyí eza na wun ga è dagun\n",
      "ò.\n",
      "What will make an individual nice is avoided and what will make him bad is happily welcomed.\n",
      "People find it difficult to do the right things.\n",
      "Wo gá gba ezako, efo      de à yi efo wotso be de ezako ye\n",
      ".\n",
      "If you are obedient to your superior, someday you will become one.\n",
      "There is wisdom behind obedience and respect of superior.\n",
      "Nyagbanlaci è de enyandondo      à.\n",
      "A jealous person does not gain anything.\n",
      "There is no any benefit for being jealous.\n",
      "Dagan yeshi ga bo è ca      eci lazhin ò.\n",
      "The morning race begins from the night.\n",
      "The earlier the better. It is always better to start a task early enough to meet the targeted result early enough.\n",
      "Eza è yi be kanwon è      sungwa ò wun tán gbako à.\n",
      "A person cannot be in possession of potash and have stomach ache.\n",
      "When a person has a solution to a problem it should solve it or else it should not complain afterwards.\n",
      "A ga è kín ò gongi má      wa, wo fe tswa ewanko\n",
      ".\n",
      "If you are praised for being a good hay harvester, be conscious of a python.\n",
      "The applauded person should be cautious of making mistakes.\n",
      "Zawangi wun rayi à.\n",
      "A man owns not it soul.\n",
      "A man is not in control of it life. It should therefore give maximum attention to whatever comes it way as soon as possible.\n",
      "Dagbá ku èsà, asara      yi nya esatso.\n",
      "An elephant that moved away with a net, the owner bears the lost.\n",
      "Whoever does not own a thing will show less concern if it is missen.\n",
      "Wo gá la yikuru      dzodzo, madán à gun ò.\n",
      "If you play with grain flour you will be hungry.\n",
      "A person does not joke with where it gets it daily bread.\n",
      "Eza wún enya à wun de      ewùnzhe?\n",
      "If a person does not own a thing, will it be angry over it?\n",
      "Do not get angry over what does not to you.\n",
      "Wo yi da yi lo è,      wotso ma ò la bicí ò kpé.\n",
      "Let us move forward, while you should also hastenly lead the way.\n",
      "People should lead by example.\n",
      "A gan majin      ényà-donci à gbín, wo gan we gbigan ényà-donci.\n",
      "The leader of mortar-drummers had sunk, and you are still demanding drums to be played.\n",
      "This is used when a person is off-track or beating about the bush.\n",
      "Zana gba ebó ye na,      wun ga ebo è kunmi\n",
      ".\n",
      "Whoever belittles the right reason, it will cause it problems someday.\n",
      "Always make use of the right decision or suggestion.\n",
      "Éyé dá wun má      yékorogi à.\n",
      "A treated eye will not produce eye-mucus.\n",
      "A problem already solved will affect no one.\n",
      "Yi à lo, yi à lo; wun      ga è la zhi lo lokpa ò.\n",
      "We will go, we will go; is what makes a journey far.\n",
      "To start a thing is what is always difficult.\n",
      "Bici ù tswa éwá, éwá      ma ù tswa bici.\n",
      "The leg should be careful with the snake and vice versa.\n",
      "Showing restrend is better than hurting one another.\n",
      "Tswa éyé! tswa éyé!      gá yi cigbe éyé ò.\n",
      "Be careful with the eye!! Is the best eye treatment.\n",
      "‘Prevention is better than cure’.\n",
      "Dangi emi ga è won      bishe emi ò\n",
      ".\n",
      "It is a domestic cat that catches a chicken.\n",
      "When you are familiar with a thing, you will know how to target or get it.\n",
      "A la hankali à tswa      lafiya.\n",
      "Make use of reasoning to make peace.\n",
      "Think before you act.\n",
      "Egi-ena ke nyizagi na      ù yi ò, na gá pani wangi ná wun à fe ba zandondo, na ma pàni wangi à na è      sa fi zandondo à.\n",
      "\n",
      "A party-candidate is like a woman; if she does her make-up very well, everyone\n",
      "will like her; and if she does not, no one will like her.\n",
      "Always do your homework very well before doing any given task or aspiring for any position in life.\n",
      "Zana gbin nuwon be      èwòko na wun gá nuwon è gbin ò.\n",
      "Whoever smims with a gown on will be drawn.\n",
      "Always do things rightly and avoid ambiguity.\n",
      "Kabo éyé-nnakogi nyaga      wo be à, wun è ceka ba egi égí.\n",
      "Even if the aunty’s eye cannot perform witchcraft anymore, but it does frightens a child.\n",
      "What people have master will not easily fade away.\n",
      "Eni è zan eje wun kan      gi gi wun à.\n",
      "Too much soup on solid-grain porridge will not prevent it from been eaten.\n",
      "What must be done cannot be avoided.\n",
      "The truth or false cannot be concealed, it will surely come to be known.\n",
      "41.\n",
      "Yajinci jin nyana kagbo ù kun na.\n",
      "The poor should go for what he can afford.\n",
      "People should live within their means.\n",
      "Extreme anxiety leads to obliteration.\n",
      "43. Yajinci è kpe shikanshi ede ù ye kperi à.\n",
      "The poor does not differentiate between the dirt of his clothes.\n",
      "This proverb is directed at people that do not find fault in whatever they do instead blame others.\n",
      "Eza bo bo kpa eshigi      wun latswan be à? Wo ga è tswan-tswan-nyi, eshigi gan wun dan na.\n",
      "A person cannot keep a dog and hiss again? For any hissing sound made, the dog appears.\n",
      "When someone is fed-up with a particular situation.\n",
      "Kara na nyagban pa na      wun è lò eti à.\n",
      "The luggage sensibly arranged will not be too heavy for the head to carry.\n",
      "Be very logical in carryout any assignment to guard against errors or mistakes.\n"
     ]
    }
   ],
   "source": [
    "import requests\n",
    "from bs4 import BeautifulSoup\n",
    "\n",
    "# Specify the URL of the website you want to scrape\n",
    "url = 'https://ibibrahim.blogspot.com/2012/01/eganmaganzhi-nupe-nupe-proverbs.html'\n",
    "\n",
    "# Send an HTTP request to the URL\n",
    "response = requests.get(url)\n",
    "\n",
    "# Check if the request was successful (status code 200)\n",
    "if response.status_code == 200:\n",
    "    # Parse the HTML content of the page\n",
    "    soup = BeautifulSoup(response.text, 'html.parser')\n",
    "\n",
    "    # Extract text from <span> elements with lang=\"EN-GB\"\n",
    "    en_gb_spans = soup.find_all('span', {'lang': 'EN-GB'})\n",
    "\n",
    "    # Print the text from each <span> element\n",
    "    for span in en_gb_spans:\n",
    "        print(span.text.strip())\n",
    "else:\n",
    "    print('Failed to retrieve the webpage. Status code:', response.status_code)\n"
   ]
  },
  {
   "cell_type": "code",
   "execution_count": null,
   "metadata": {},
   "outputs": [],
   "source": [
    "#ALL The websites we scraped\n",
    "#Websites \n",
    "#Proverbs –\n",
    "#1. https://ibibrahim.blogspot.com/2012/01/eganmaganzhi-nupe-nupe-proverbs.html\n",
    "#2. https://www.nairaland.com/3104844/great-nupe-proverbs-meanings\n",
    "#3. https://archive.org/details/gmgnynupenupep00banf/page/8/mode/2up\n",
    "#4. https://coopills.com/nupe-proverbs/\n",
    "#Poems-\n",
    "#1.  https://ibibrahim.blogspot.com/2016/07/kaye-nupe-poem-haramu-tsudo.html\n",
    "#2. http://ibibrahim.blogspot.com/2015/06/kaye-egbazun-ya-we-falling-for-you.html?m=1\n",
    "#Qura’an\n",
    "#1. https://nupequran.com/www.muhammadjiya.com\n",
    "#2.https://play.google.com/store/apps/details?id=com.hisan.nupetafsir&hl=en&gl=US\n",
    "\n"
   ]
  },
  {
   "cell_type": "code",
   "execution_count": 6,
   "metadata": {},
   "outputs": [
    {
     "name": "stdout",
     "output_type": "stream",
     "text": [
      "CSV file successfully created.\n"
     ]
    }
   ],
   "source": [
    "import requests\n",
    "from bs4 import BeautifulSoup\n",
    "import pandas as pd\n",
    "\n",
    "# Specify the URL of the website you want to scrape\n",
    "url = 'https://ibibrahim.blogspot.com/2012/01/eganmaganzhi-nupe-nupe-proverbs.html'\n",
    "\n",
    "# Send an HTTP request to the URL\n",
    "response = requests.get(url)\n",
    "\n",
    "# Check if the request was successful (status code 200)\n",
    "if response.status_code == 200:\n",
    "    # Parse the HTML content of the page\n",
    "    soup = BeautifulSoup(response.text, 'html.parser')\n",
    "\n",
    "    # Extract text from <span> elements with lang=\"EN-GB\"\n",
    "    en_gb_spans = soup.find_all('span', {'lang': 'EN-GB'})\n",
    "\n",
    "    # Process and modify the text\n",
    "    modified_texts = []\n",
    "    for i, span in enumerate(en_gb_spans):\n",
    "        # Skip the first 8 rows\n",
    "        if i < 8:\n",
    "            continue\n",
    "        text = span.text.strip()\n",
    "        # Remove all commas from the extracted text\n",
    "        text = text.replace(',', '')\n",
    "        # Replace the last dot of each first sentence with a comma\n",
    "        if '.' in text:\n",
    "            first_dot_index = text.find('.')\n",
    "            text = text[:first_dot_index] + ',' + text[first_dot_index + 1:]\n",
    "        # Skip the second sentences\n",
    "        if i % 2 == 0:\n",
    "            modified_texts.append(text)\n",
    "\n",
    "    # Create a DataFrame from the modified texts\n",
    "    df = pd.DataFrame({'EN-GB Text': modified_texts})\n",
    "\n",
    "    # Save the DataFrame to a CSV file\n",
    "    df.to_csv('en_gb_texts.csv', index=False)\n",
    "\n",
    "    print('CSV file successfully created.')\n",
    "else:\n",
    "    print('Failed to retrieve the webpage. Status code:', response.status_code)"
   ]
  },
  {
   "cell_type": "markdown",
   "metadata": {},
   "source": [
    "**Web data ...**"
   ]
  },
  {
   "cell_type": "code",
   "execution_count": 8,
   "metadata": {},
   "outputs": [
    {
     "data": {
      "text/html": [
       "<div>\n",
       "<style scoped>\n",
       "    .dataframe tbody tr th:only-of-type {\n",
       "        vertical-align: middle;\n",
       "    }\n",
       "\n",
       "    .dataframe tbody tr th {\n",
       "        vertical-align: top;\n",
       "    }\n",
       "\n",
       "    .dataframe thead th {\n",
       "        text-align: right;\n",
       "    }\n",
       "</style>\n",
       "<table border=\"1\" class=\"dataframe\">\n",
       "  <thead>\n",
       "    <tr style=\"text-align: right;\">\n",
       "      <th></th>\n",
       "      <th>nupe</th>\n",
       "      <th>eng</th>\n",
       "    </tr>\n",
       "  </thead>\n",
       "  <tbody>\n",
       "    <tr>\n",
       "      <th>0</th>\n",
       "      <td>If you know today you do not know tomorrow,</td>\n",
       "      <td>2, Tukpapa wun è lugwa tukpa tsu à.</td>\n",
       "    </tr>\n",
       "    <tr>\n",
       "      <th>1</th>\n",
       "      <td>A reminder does not cause harm rather it enlig...</td>\n",
       "      <td>The crippled draws attention to stand for pray...</td>\n",
       "    </tr>\n",
       "    <tr>\n",
       "      <th>2</th>\n",
       "      <td>4, Eza ù la eda ù ya tun ka kun na wun è woma ...</td>\n",
       "      <td>A person should leave the stage when the ovati...</td>\n",
       "    </tr>\n",
       "  </tbody>\n",
       "</table>\n",
       "</div>"
      ],
      "text/plain": [
       "                                                nupe  \\\n",
       "0        If you know today you do not know tomorrow,   \n",
       "1  A reminder does not cause harm rather it enlig...   \n",
       "2  4, Eza ù la eda ù ya tun ka kun na wun è woma ...   \n",
       "\n",
       "                                                 eng  \n",
       "0                2, Tukpapa wun è lugwa tukpa tsu à.  \n",
       "1  The crippled draws attention to stand for pray...  \n",
       "2  A person should leave the stage when the ovati...  "
      ]
     },
     "execution_count": 8,
     "metadata": {},
     "output_type": "execute_result"
    }
   ],
   "source": [
    "dfs = pd.read_csv('en_gb_texts.csv')\n",
    "dfs.head(3)"
   ]
  },
  {
   "cell_type": "markdown",
   "metadata": {},
   "source": [
    "**PDF WEB FILES ...**"
   ]
  },
  {
   "cell_type": "code",
   "execution_count": 2,
   "metadata": {},
   "outputs": [
    {
     "data": {
      "text/plain": [
       "['WARNING: Ignoring invalid distribution -treamlit (c:\\\\users\\\\user\\\\anaconda3\\\\lib\\\\site-packages)',\n",
       " 'WARNING: Ignoring invalid distribution -treamlit (c:\\\\users\\\\user\\\\anaconda3\\\\lib\\\\site-packages)',\n",
       " 'Collecting camelot-py',\n",
       " '  Downloading camelot_py-0.11.0-py3-none-any.whl (40 kB)',\n",
       " '     -------------------------------------- 41.0/41.0 kB 140.4 kB/s eta 0:00:00',\n",
       " 'Collecting pdfminer.six>=20200726',\n",
       " '  Downloading pdfminer.six-20221105-py3-none-any.whl (5.6 MB)',\n",
       " '     ---------------------------------------- 5.6/5.6 MB 876.8 kB/s eta 0:00:00',\n",
       " 'Requirement already satisfied: tabulate>=0.8.9 in c:\\\\users\\\\user\\\\anaconda3\\\\lib\\\\site-packages (from camelot-py) (0.8.10)',\n",
       " 'Requirement already satisfied: click>=6.7 in c:\\\\users\\\\user\\\\anaconda3\\\\lib\\\\site-packages (from camelot-py) (8.0.4)',\n",
       " 'Requirement already satisfied: chardet>=3.0.4 in c:\\\\users\\\\user\\\\anaconda3\\\\lib\\\\site-packages (from camelot-py) (4.0.0)',\n",
       " 'Requirement already satisfied: pandas>=0.23.4 in c:\\\\users\\\\user\\\\anaconda3\\\\lib\\\\site-packages (from camelot-py) (1.5.3)',\n",
       " 'Requirement already satisfied: numpy>=1.13.3 in c:\\\\users\\\\user\\\\anaconda3\\\\lib\\\\site-packages (from camelot-py) (1.25.1)',\n",
       " 'Requirement already satisfied: openpyxl>=2.5.8 in c:\\\\users\\\\user\\\\anaconda3\\\\lib\\\\site-packages (from camelot-py) (3.0.10)',\n",
       " 'Collecting pypdf>=3.0.0',\n",
       " '  Downloading pypdf-3.17.2-py3-none-any.whl (277 kB)',\n",
       " '     -------------------------------------- 277.9/277.9 kB 1.2 MB/s eta 0:00:00',\n",
       " 'Requirement already satisfied: colorama in c:\\\\users\\\\user\\\\anaconda3\\\\lib\\\\site-packages (from click>=6.7->camelot-py) (0.4.6)',\n",
       " 'Requirement already satisfied: et_xmlfile in c:\\\\users\\\\user\\\\anaconda3\\\\lib\\\\site-packages (from openpyxl>=2.5.8->camelot-py) (1.1.0)',\n",
       " 'Requirement already satisfied: pytz>=2020.1 in c:\\\\users\\\\user\\\\anaconda3\\\\lib\\\\site-packages (from pandas>=0.23.4->camelot-py) (2022.7)',\n",
       " 'Requirement already satisfied: python-dateutil>=2.8.1 in c:\\\\users\\\\user\\\\anaconda3\\\\lib\\\\site-packages (from pandas>=0.23.4->camelot-py) (2.8.2)',\n",
       " 'Requirement already satisfied: cryptography>=36.0.0 in c:\\\\users\\\\user\\\\anaconda3\\\\lib\\\\site-packages (from pdfminer.six>=20200726->camelot-py) (39.0.1)',\n",
       " 'Requirement already satisfied: charset-normalizer>=2.0.0 in c:\\\\users\\\\user\\\\anaconda3\\\\lib\\\\site-packages (from pdfminer.six>=20200726->camelot-py) (2.0.4)',\n",
       " 'Requirement already satisfied: cffi>=1.12 in c:\\\\users\\\\user\\\\anaconda3\\\\lib\\\\site-packages (from cryptography>=36.0.0->pdfminer.six>=20200726->camelot-py) (1.15.1)',\n",
       " 'Requirement already satisfied: six>=1.5 in c:\\\\users\\\\user\\\\anaconda3\\\\lib\\\\site-packages (from python-dateutil>=2.8.1->pandas>=0.23.4->camelot-py) (1.16.0)',\n",
       " 'Requirement already satisfied: pycparser in c:\\\\users\\\\user\\\\anaconda3\\\\lib\\\\site-packages (from cffi>=1.12->cryptography>=36.0.0->pdfminer.six>=20200726->camelot-py) (2.21)',\n",
       " 'WARNING: Ignoring invalid distribution -treamlit (c:\\\\users\\\\user\\\\anaconda3\\\\lib\\\\site-packages)',\n",
       " 'Installing collected packages: pypdf, pdfminer.six, camelot-py',\n",
       " 'WARNING: Ignoring invalid distribution -treamlit (c:\\\\users\\\\user\\\\anaconda3\\\\lib\\\\site-packages)',\n",
       " 'WARNING: Ignoring invalid distribution -treamlit (c:\\\\users\\\\user\\\\anaconda3\\\\lib\\\\site-packages)',\n",
       " 'WARNING: Ignoring invalid distribution -treamlit (c:\\\\users\\\\user\\\\anaconda3\\\\lib\\\\site-packages)',\n",
       " 'Successfully installed camelot-py-0.11.0 pdfminer.six-20221105 pypdf-3.17.2',\n",
       " 'WARNING: Ignoring invalid distribution -treamlit (c:\\\\users\\\\user\\\\anaconda3\\\\lib\\\\site-packages)',\n",
       " 'WARNING: Ignoring invalid distribution -treamlit (c:\\\\users\\\\user\\\\anaconda3\\\\lib\\\\site-packages)',\n",
       " 'WARNING: Ignoring invalid distribution -treamlit (c:\\\\users\\\\user\\\\anaconda3\\\\lib\\\\site-packages)']"
      ]
     },
     "execution_count": 2,
     "metadata": {},
     "output_type": "execute_result"
    }
   ],
   "source": [
    "!!pip install camelot-py\n"
   ]
  },
  {
   "cell_type": "code",
   "execution_count": 4,
   "metadata": {},
   "outputs": [
    {
     "name": "stdout",
     "output_type": "stream",
     "text": [
      "Collecting opencv-python"
     ]
    },
    {
     "name": "stderr",
     "output_type": "stream",
     "text": [
      "WARNING: Ignoring invalid distribution -treamlit (c:\\users\\user\\anaconda3\\lib\\site-packages)\n",
      "WARNING: Ignoring invalid distribution -treamlit (c:\\users\\user\\anaconda3\\lib\\site-packages)\n",
      "WARNING: Ignoring invalid distribution -treamlit (c:\\users\\user\\anaconda3\\lib\\site-packages)\n",
      "WARNING: Ignoring invalid distribution -treamlit (c:\\users\\user\\anaconda3\\lib\\site-packages)\n",
      "WARNING: Ignoring invalid distribution -treamlit (c:\\users\\user\\anaconda3\\lib\\site-packages)\n",
      "WARNING: Ignoring invalid distribution -treamlit (c:\\users\\user\\anaconda3\\lib\\site-packages)\n",
      "WARNING: Ignoring invalid distribution -treamlit (c:\\users\\user\\anaconda3\\lib\\site-packages)\n"
     ]
    },
    {
     "name": "stdout",
     "output_type": "stream",
     "text": [
      "\n",
      "  Downloading opencv_python-4.8.1.78-cp37-abi3-win_amd64.whl (38.1 MB)\n",
      "     ---------------------------------------- 38.1/38.1 MB 2.3 MB/s eta 0:00:00\n",
      "Requirement already satisfied: numpy>=1.21.2 in c:\\users\\user\\anaconda3\\lib\\site-packages (from opencv-python) (1.25.1)\n",
      "Installing collected packages: opencv-python\n",
      "Successfully installed opencv-python-4.8.1.78\n"
     ]
    }
   ],
   "source": [
    "!pip install opencv-python\n"
   ]
  },
  {
   "cell_type": "code",
   "execution_count": 1,
   "metadata": {},
   "outputs": [],
   "source": [
    "import camelot"
   ]
  },
  {
   "cell_type": "code",
   "execution_count": null,
   "metadata": {},
   "outputs": [],
   "source": [
    "tables=camelot.read_pdf('English-Nupe-Dictionary-Current-Edition-1.pdf')"
   ]
  },
  {
   "cell_type": "code",
   "execution_count": 8,
   "metadata": {},
   "outputs": [],
   "source": [
    "import ctypes"
   ]
  },
  {
   "cell_type": "code",
   "execution_count": null,
   "metadata": {},
   "outputs": [],
   "source": [
    "tables"
   ]
  },
  {
   "cell_type": "code",
   "execution_count": null,
   "metadata": {},
   "outputs": [],
   "source": [
    "tables=camelot.read_pdf('English-Nupe-Dictionary-Current-Edition-1.pdf',flavor='stream',pages='4-end',skiprows='1')"
   ]
  },
  {
   "cell_type": "code",
   "execution_count": null,
   "metadata": {},
   "outputs": [],
   "source": [
    "tables"
   ]
  },
  {
   "cell_type": "code",
   "execution_count": null,
   "metadata": {},
   "outputs": [],
   "source": [
    "tables[0]"
   ]
  },
  {
   "cell_type": "code",
   "execution_count": null,
   "metadata": {},
   "outputs": [],
   "source": [
    "tables[0].df"
   ]
  },
  {
   "cell_type": "code",
   "execution_count": null,
   "metadata": {},
   "outputs": [],
   "source": [
    "tables.export('foo.csv',f='csv')"
   ]
  },
  {
   "cell_type": "code",
   "execution_count": null,
   "metadata": {},
   "outputs": [],
   "source": [
    "f=tables[0]"
   ]
  },
  {
   "cell_type": "code",
   "execution_count": null,
   "metadata": {},
   "outputs": [],
   "source": [
    "f.df"
   ]
  },
  {
   "cell_type": "code",
   "execution_count": null,
   "metadata": {},
   "outputs": [],
   "source": [
    "First_table=tables[4-186]"
   ]
  },
  {
   "cell_type": "code",
   "execution_count": null,
   "metadata": {},
   "outputs": [],
   "source": [
    "First_table.to_csv('Nupe_Dictionary')"
   ]
  },
  {
   "cell_type": "code",
   "execution_count": null,
   "metadata": {},
   "outputs": [],
   "source": [
    "tables.columns=['English_translation','Nupe_translation']\n",
    "print(tables)"
   ]
  },
  {
   "cell_type": "code",
   "execution_count": null,
   "metadata": {},
   "outputs": [],
   "source": [
    "tables[0].df"
   ]
  },
  {
   "cell_type": "code",
   "execution_count": null,
   "metadata": {},
   "outputs": [],
   "source": [
    "import os\n",
    "import pandas as pd\n",
    "import numpy as np"
   ]
  },
  {
   "cell_type": "code",
   "execution_count": null,
   "metadata": {},
   "outputs": [],
   "source": [
    "os.system(\"type C:\\\\Users\\\\umb\\\\OneDrive\\\\Desktop\\\\NupeDictionary\\\\*.csv > C:\\\\Users\\\\umb\\\\OneDrive\\\\Desktop\\\\NupeDictionary\\\\Allcsv.csv\")"
   ]
  },
  {
   "cell_type": "code",
   "execution_count": null,
   "metadata": {},
   "outputs": [],
   "source": [
    "df=pd.read_csv('foo-page-10-table-1.csv')\n",
    "df.columns=['English_translation','Nupe_translation']"
   ]
  },
  {
   "cell_type": "code",
   "execution_count": null,
   "metadata": {},
   "outputs": [],
   "source": [
    "df['Nupe_translation'].str.split(',', expand=True)"
   ]
  },
  {
   "cell_type": "code",
   "execution_count": null,
   "metadata": {},
   "outputs": [],
   "source": [
    "df['English_translation'].str.split(',', expand=True)"
   ]
  },
  {
   "cell_type": "code",
   "execution_count": 93,
   "metadata": {},
   "outputs": [],
   "source": [
    "###########################################################################################"
   ]
  }
 ],
 "metadata": {
  "kernelspec": {
   "display_name": "Python 3 (ipykernel)",
   "language": "python",
   "name": "python3"
  },
  "language_info": {
   "codemirror_mode": {
    "name": "ipython",
    "version": 3
   },
   "file_extension": ".py",
   "mimetype": "text/x-python",
   "name": "python",
   "nbconvert_exporter": "python",
   "pygments_lexer": "ipython3",
   "version": "3.10.9"
  }
 },
 "nbformat": 4,
 "nbformat_minor": 2
}
